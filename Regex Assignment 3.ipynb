{
 "cells": [
  {
   "cell_type": "markdown",
   "id": "80dd7c62",
   "metadata": {},
   "source": [
    "# Assigment -3 Regex "
   ]
  },
  {
   "cell_type": "markdown",
   "id": "5bb38c09",
   "metadata": {},
   "source": [
    "1. Write a Python program to replace all occurrences of a space, comma, or dot with a colon.\n",
    "Sample Text- 'Python Exercises, PHP exercises.'\n",
    "Expected Output: Python:Exercises::PHP:exercises:\n"
   ]
  },
  {
   "cell_type": "code",
   "execution_count": 1,
   "id": "88223523",
   "metadata": {},
   "outputs": [
    {
     "name": "stdout",
     "output_type": "stream",
     "text": [
      "Python:Exercises::PHP:exercises:\n"
     ]
    }
   ],
   "source": [
    "import re\n",
    "Sample_Text = 'Python Exercises, PHP exercises.'\n",
    "print(re.sub(\"[ ,.]\", \":\", Sample_Text))\n"
   ]
  },
  {
   "cell_type": "markdown",
   "id": "294dae08",
   "metadata": {},
   "source": [
    "2. Create a dataframe using the dictionary below and remove everything (commas (,), !, XXXX, ;, etc.) from the columns except words.\n",
    "Dictionary- {'SUMMARY' : ['hello, world!', 'XXXXX test', '123four, five:; six...']}\n"
   ]
  },
  {
   "cell_type": "code",
   "execution_count": 2,
   "id": "1ad27881",
   "metadata": {},
   "outputs": [
    {
     "name": "stdout",
     "output_type": "stream",
     "text": [
      "         SUMMARY\n",
      "0    hello world\n",
      "1     XXXXX test\n",
      "2  four five six\n"
     ]
    }
   ],
   "source": [
    "import pandas as pd\n",
    "import re\n",
    "\n",
    "data = {\"SUMMARY\": ['hello, world!', 'XXXXX test', '123four, five:; six...']}\n",
    "\n",
    "df = pd.DataFrame(data)\n",
    "\n",
    "df['SUMMARY'] = df['SUMMARY'].str.replace('[^a-zA-Z\\s]', '', regex=True)\n",
    "\n",
    "print(df)\n"
   ]
  },
  {
   "cell_type": "code",
   "execution_count": null,
   "id": "e97a0f84",
   "metadata": {},
   "outputs": [],
   "source": []
  },
  {
   "cell_type": "markdown",
   "id": "66d28a1a",
   "metadata": {},
   "source": [
    "3. Create a function in python to find all words that are at least 4 characters long in a string. The use of the re.compile() method is mandatory."
   ]
  },
  {
   "cell_type": "code",
   "execution_count": 4,
   "id": "9e31b137",
   "metadata": {},
   "outputs": [
    {
     "name": "stdout",
     "output_type": "stream",
     "text": [
      "Print All Word With at least 4 char string :: ['concept', 'electric', 'cars', 'relatively', 'automotive', 'industry']\n"
     ]
    }
   ],
   "source": [
    "import re\n",
    "text = \"The concept of electric cars is relatively new in the automotive industry.\"\n",
    "pattern= re.compile(r\"\\b\\w{4,}\\b\")\n",
    "matches = pattern.findall(text)\n",
    "print(\"Print All Word With at least 4 char string ::\", matches)\n"
   ]
  },
  {
   "cell_type": "code",
   "execution_count": null,
   "id": "9b1685d4",
   "metadata": {},
   "outputs": [],
   "source": []
  },
  {
   "cell_type": "markdown",
   "id": "0e9d91ea",
   "metadata": {},
   "source": [
    "4.Create a function in python to find all three, four, and five character words in a string. The use of the re.compile() method is mandatory."
   ]
  },
  {
   "cell_type": "code",
   "execution_count": 8,
   "id": "70f677ef",
   "metadata": {},
   "outputs": [
    {
     "name": "stdout",
     "output_type": "stream",
     "text": [
      "Print All three four and five character string :: ['The', 'cars', 'new', 'the', 'one', 'that', 'motor', 'that', 'power', 'mix', 'fuel', 'and', 'gases']\n"
     ]
    }
   ],
   "source": [
    "import re\n",
    "text = \"The concept of electric cars is relatively new in the automotive industry.An electric vehicle (EV) is one that operates on an electric motor, instead of an internal-combustion engine that generates power by burning a mix of fuel and gases. \"\n",
    "pattern= re.compile(r\"\\b\\w{3,5}\\b\")\n",
    "matches = pattern.findall(text)\n",
    "print(\"Print All three four and five character string ::\", matches)"
   ]
  },
  {
   "cell_type": "code",
   "execution_count": null,
   "id": "3ca12fae",
   "metadata": {},
   "outputs": [],
   "source": []
  },
  {
   "cell_type": "markdown",
   "id": "ed2fb621",
   "metadata": {},
   "source": [
    "5. Create a function in Python to remove the parenthesis in a list of strings. The use of the re.compile() method is mandatory.\n",
    "Sample Text: [\"example (.com)\", \"hr@fliprobo (.com)\", \"github (.com)\", \"Hello (Data Science World)\", \"Data (Scientist)\"]\n"
   ]
  },
  {
   "cell_type": "code",
   "execution_count": 27,
   "id": "d2e66970",
   "metadata": {},
   "outputs": [
    {
     "name": "stdout",
     "output_type": "stream",
     "text": [
      "example.com\n",
      "hr@fliprobo.com\n",
      "github.com\n",
      "HelloData Science World\n",
      "DataScientist\n"
     ]
    }
   ],
   "source": [
    "import re\n",
    "Sample_Text = [\"example (.com)\", \"hr@fliprobo (.com)\", \"github (.com)\",  \"Hello (Data Science World)\", \"Data (Scientist)\"]\n",
    "for item in Sample_Text:\n",
    "    rem_paren=re.compile(r\" ?\\(| ?\\)\")\n",
    "    words=re.sub(rem_paren, \"\", item)\n",
    "    print(words)\n",
    "\n",
    "\n"
   ]
  },
  {
   "cell_type": "code",
   "execution_count": null,
   "id": "b81af1c6",
   "metadata": {},
   "outputs": [],
   "source": []
  },
  {
   "cell_type": "markdown",
   "id": "4d1c802b",
   "metadata": {},
   "source": [
    "6. Write a python program to remove the parenthesis area from the text stored in the text file using Regular Expression.\n",
    "Sample Text: [\"example (.com)\", \"hr@fliprobo (.com)\", \"github (.com)\", \"Hello (Data Science World)\", \"Data (Scientist)\"]\n"
   ]
  },
  {
   "cell_type": "code",
   "execution_count": 30,
   "id": "4a5ede86",
   "metadata": {},
   "outputs": [
    {
     "name": "stdout",
     "output_type": "stream",
     "text": [
      "example\n",
      "hr@fliprobo\n",
      "github\n",
      "Hello\n",
      "Data\n"
     ]
    }
   ],
   "source": [
    "import re\n",
    "Sample_Text = [\"example (.com)\", \"hr@fliprobo (.com)\", \"github (.com)\",  \"Hello (Data Science World)\", \"Data (Scientist)\"]\n",
    "for item in Sample_Text:\n",
    "    rem_paren=re.compile(r\"\\s*\\([^)]*\\)\")\n",
    "    words=re.sub(rem_paren, \"\", item)\n",
    "    print(words)\n"
   ]
  },
  {
   "cell_type": "code",
   "execution_count": null,
   "id": "86308606",
   "metadata": {},
   "outputs": [],
   "source": []
  },
  {
   "cell_type": "markdown",
   "id": "c168365e",
   "metadata": {},
   "source": [
    "7.Write a regular expression in Python to split a string into uppercase letters.\n",
    "Sample text: “ImportanceOfRegularExpressionsInPython”\n"
   ]
  },
  {
   "cell_type": "code",
   "execution_count": 32,
   "id": "5bc18c13",
   "metadata": {},
   "outputs": [
    {
     "name": "stdout",
     "output_type": "stream",
     "text": [
      "['Importance', 'Of', 'Regular', 'Expressions', 'In', 'Python']\n"
     ]
    }
   ],
   "source": [
    "import re\n",
    "Sample_Text = \"ImportanceOfRegularExpressionsInPython\"\n",
    "pattern=r\"[A-Z][a-z]*\"\n",
    "spllit=re.findall(pattern,Sample_Text)\n",
    "print(spllit)"
   ]
  },
  {
   "cell_type": "markdown",
   "id": "bdafe04a",
   "metadata": {},
   "source": [
    "\n"
   ]
  },
  {
   "cell_type": "markdown",
   "id": "3b849381",
   "metadata": {},
   "source": [
    "8.Create a function in python to insert spaces between words starting with numbers.\n",
    "Sample Text: “RegularExpression1IsAn2ImportantTopic3InPython\"\n"
   ]
  },
  {
   "cell_type": "code",
   "execution_count": 55,
   "id": "f292307c",
   "metadata": {},
   "outputs": [
    {
     "name": "stdout",
     "output_type": "stream",
     "text": [
      "RegularExpression 1IsAn 2ImportantTopic 3InPython\n"
     ]
    }
   ],
   "source": [
    "import re\n",
    "Sample_Text = \"RegularExpression1IsAn2ImportantTopic3InPython\"\n",
    "pattern=r\"(\\d+)([A-Za-z]+)\"\n",
    "space=re.sub(pattern,r\" \\1\\2\",Sample_Text)\n",
    "print(space)"
   ]
  },
  {
   "cell_type": "code",
   "execution_count": null,
   "id": "06793a31",
   "metadata": {},
   "outputs": [],
   "source": []
  },
  {
   "cell_type": "markdown",
   "id": "214c3702",
   "metadata": {},
   "source": [
    "9.Create a function in python to insert spaces between words starting with capital letters or with numbers.\n",
    "Sample Text: “RegularExpression1IsAn2ImportantTopic3InPython\"\n"
   ]
  },
  {
   "cell_type": "code",
   "execution_count": 59,
   "id": "4c3e88aa",
   "metadata": {},
   "outputs": [
    {
     "name": "stdout",
     "output_type": "stream",
     "text": [
      "RegularExpression 1 IsAn 2 ImportantTopic 3 InPython\n"
     ]
    }
   ],
   "source": [
    "import re\n",
    "Sample_Text = \"RegularExpression1IsAn2ImportantTopic3InPython\"\n",
    "pattern=r\"(\\d+)([A-Za-z]+)\"\n",
    "space=re.sub(pattern,r\" \\1 \\2\",Sample_Text)\n",
    "print(space)"
   ]
  },
  {
   "cell_type": "code",
   "execution_count": null,
   "id": "63c9b14d",
   "metadata": {},
   "outputs": [],
   "source": []
  },
  {
   "cell_type": "markdown",
   "id": "8f731775",
   "metadata": {},
   "source": [
    "10.Use the github link below to read the data and create a dataframe. After creating the dataframe extract the first 6 letters of each country and store in the dataframe under a new column called first_five_letters.\n",
    "Github Link-  https://raw.githubusercontent.com/dsrscientist/DSData/master/happiness_score_dataset.csv\n"
   ]
  },
  {
   "cell_type": "code",
   "execution_count": 60,
   "id": "6734b08a",
   "metadata": {},
   "outputs": [],
   "source": [
    "import pandas as pd\n",
    "import re\n",
    "\n",
    "url = \"https://raw.githubusercontent.com/dsrscientist/DSData/master/happiness_score_dataset.csv\"\n",
    "df = pd.read_csv(url)\n",
    "\n",
    "df['first_five_letters'] = df['Country'].apply(lambda x: x[:6])\n"
   ]
  },
  {
   "cell_type": "code",
   "execution_count": 61,
   "id": "52bcff35",
   "metadata": {},
   "outputs": [
    {
     "data": {
      "text/plain": [
       "0      Switze\n",
       "1      Icelan\n",
       "2      Denmar\n",
       "3      Norway\n",
       "4      Canada\n",
       "        ...  \n",
       "153    Rwanda\n",
       "154     Benin\n",
       "155     Syria\n",
       "156    Burund\n",
       "157      Togo\n",
       "Name: first_five_letters, Length: 158, dtype: object"
      ]
     },
     "execution_count": 61,
     "metadata": {},
     "output_type": "execute_result"
    }
   ],
   "source": [
    "df['first_five_letters']\n"
   ]
  },
  {
   "cell_type": "code",
   "execution_count": null,
   "id": "0c2f7e78",
   "metadata": {},
   "outputs": [],
   "source": []
  },
  {
   "cell_type": "markdown",
   "id": "edfd4876",
   "metadata": {},
   "source": [
    "11.Write a Python program to match a string that contains only upper and lowercase letters, numbers, and underscores."
   ]
  },
  {
   "cell_type": "code",
   "execution_count": 71,
   "id": "4fd7d702",
   "metadata": {},
   "outputs": [
    {
     "name": "stdout",
     "output_type": "stream",
     "text": [
      "Enter the string ::Abs_12Sspd\n",
      "Found a match!\n"
     ]
    }
   ],
   "source": [
    "import re\n",
    "\n",
    "string=input(\"Enter the string ::\")\n",
    "patterns = \"^[a-zA-Z0-9_]*$\"\n",
    "if re.search(patterns,string):\n",
    "  print(\"Found a match!\")\n",
    "else:\n",
    "  print('Not matched!')\n",
    "\n",
    "\n"
   ]
  },
  {
   "cell_type": "code",
   "execution_count": null,
   "id": "d0dca223",
   "metadata": {},
   "outputs": [],
   "source": []
  },
  {
   "cell_type": "markdown",
   "id": "e903b446",
   "metadata": {},
   "source": [
    "12.Write a Python program where a string will start with a specific number. "
   ]
  },
  {
   "cell_type": "code",
   "execution_count": 74,
   "id": "540cce02",
   "metadata": {},
   "outputs": [
    {
     "name": "stdout",
     "output_type": "stream",
     "text": [
      "Enter the string with number::6-niuhi\n",
      "Found not match!\n"
     ]
    }
   ],
   "source": [
    "import re\n",
    "string=input(\"Enter the string with number::\")\n",
    "text = re.compile(r\"^5\")\n",
    "if text.match(string):\n",
    " print(\"Found a match!\")\n",
    "else:\n",
    " print(\"Found not match!\")\n",
    "\n"
   ]
  },
  {
   "cell_type": "markdown",
   "id": "a866dd53",
   "metadata": {},
   "source": [
    "13.Write a Python program to remove leading zeros from an IP address"
   ]
  },
  {
   "cell_type": "code",
   "execution_count": 79,
   "id": "07bc01a4",
   "metadata": {},
   "outputs": [
    {
     "name": "stdout",
     "output_type": "stream",
     "text": [
      "6.80.84.190\n"
     ]
    }
   ],
   "source": [
    "import re\n",
    "ip_address = \"006.080.084.190\"\n",
    "string = re.sub(r\"\\b0+(\\d)\", r\"\\1\", ip_address)\n",
    "print(string)\n"
   ]
  },
  {
   "cell_type": "markdown",
   "id": "1ef0c5d4",
   "metadata": {},
   "source": [
    "14.Write a regular expression in python to match a date string in the form of Month name followed by day number and year stored in a text file.\n",
    "Sample text :  ' On August 15th 1947 that India was declared independent from British colonialism, and the reins of control were handed over to the leaders of the Country’.\n"
   ]
  },
  {
   "cell_type": "code",
   "execution_count": 100,
   "id": "1205d7df",
   "metadata": {},
   "outputs": [
    {
     "name": "stdout",
     "output_type": "stream",
     "text": [
      "['August']\n"
     ]
    }
   ],
   "source": [
    "import re\n",
    "\n",
    "Sample_text = \"On August 15th 1947 that India was declared independent from British colonialism, and the reins of control were handed over to the leaders of the Country.\"\n",
    "pattern = r\"\\b([A-Z][a-z]+) \\d{1,2}(?:st|nd|rd|th)? \\d{4}\\b\"\n",
    "string= re.findall(pattern,Sample_text)\n",
    "print(string)\n"
   ]
  },
  {
   "cell_type": "code",
   "execution_count": null,
   "id": "23f2832a",
   "metadata": {},
   "outputs": [],
   "source": []
  },
  {
   "cell_type": "markdown",
   "id": "4216b1a9",
   "metadata": {},
   "source": [
    "15.- Write a Python program to search some literals strings in a string. \n",
    "Sample text : 'The quick brown fox jumps over the lazy dog.'\n",
    "Searched words : 'fox', 'dog', 'horse'\n"
   ]
  },
  {
   "cell_type": "code",
   "execution_count": 101,
   "id": "b0f07e0e",
   "metadata": {},
   "outputs": [
    {
     "name": "stdout",
     "output_type": "stream",
     "text": [
      "Searching for \"fox\" in \"The quick brown fox jumps over the lazy dog.\" ->\n",
      "Matched!\n",
      "Searching for \"dog\" in \"The quick brown fox jumps over the lazy dog.\" ->\n",
      "Matched!\n",
      "Searching for \"horse\" in \"The quick brown fox jumps over the lazy dog.\" ->\n",
      "Not Matched!\n"
     ]
    }
   ],
   "source": [
    "import re\n",
    "\n",
    "search_words = [ 'fox', 'dog', 'horse' ]\n",
    "Sample_text = 'The quick brown fox jumps over the lazy dog.'\n",
    "\n",
    "for pattern in search_words:\n",
    "    print('Searching for \"%s\" in \"%s\" ->' % (pattern, Sample_text),)\n",
    "    if re.search(pattern,Sample_text):\n",
    "        print('Matched!')\n",
    "    else:\n",
    "        print('Not Matched!')\n"
   ]
  },
  {
   "cell_type": "code",
   "execution_count": null,
   "id": "536ae7a4",
   "metadata": {},
   "outputs": [],
   "source": []
  },
  {
   "cell_type": "markdown",
   "id": "d67a531a",
   "metadata": {},
   "source": [
    "16. Write a Python program to search a literals string in a string and also find the location within the original string where the pattern occurs\n",
    "Sample text : 'The quick brown fox jumps over the lazy dog.'\n",
    "Searched words : 'fox'\n"
   ]
  },
  {
   "cell_type": "code",
   "execution_count": 107,
   "id": "784df4ae",
   "metadata": {},
   "outputs": [
    {
     "name": "stdout",
     "output_type": "stream",
     "text": [
      "it's a match, starts on %d to %d:: 15 20\n"
     ]
    }
   ],
   "source": [
    "import re\n",
    "Sample_text  = 'The quick brown fox jumps over the lazy dog.'\n",
    "word='\\Wfox\\W'\n",
    "match = re.search(word, Sample_text)\n",
    "s=match.start()\n",
    "e=match.end()\n",
    "if m:\n",
    "    print('it\\'s a match, starts on %d to %d::',s,e)\n",
    "else:\n",
    "    print('no match found')\n"
   ]
  },
  {
   "cell_type": "code",
   "execution_count": null,
   "id": "502130a1",
   "metadata": {},
   "outputs": [],
   "source": []
  },
  {
   "cell_type": "markdown",
   "id": "3541842f",
   "metadata": {},
   "source": [
    "17.- Write a Python program to find the substrings within a string.\n",
    "Sample text : 'Python exercises, PHP exercises, C# exercises'\n",
    "Pattern : 'exercises'.\n"
   ]
  },
  {
   "cell_type": "code",
   "execution_count": 115,
   "id": "8fed1322",
   "metadata": {},
   "outputs": [
    {
     "name": "stdout",
     "output_type": "stream",
     "text": [
      "['exercises', 'exercises', 'exercises']\n"
     ]
    }
   ],
   "source": [
    "import re\n",
    "Sample_text = 'Python exercises, PHP exercises, C# exercises'\n",
    "pattern = 'exercises'\n",
    "for match in Sample_text:\n",
    "    mt=re.findall(pattern, Sample_text)\n",
    "    \n",
    "print(mt)  \n",
    "\n",
    "\n"
   ]
  },
  {
   "cell_type": "code",
   "execution_count": null,
   "id": "6318e875",
   "metadata": {},
   "outputs": [],
   "source": []
  },
  {
   "cell_type": "markdown",
   "id": "94ae33f2",
   "metadata": {},
   "source": [
    "18.Write a Python program to find the occurrence and position of the substrings within a string."
   ]
  },
  {
   "cell_type": "code",
   "execution_count": 125,
   "id": "81479877",
   "metadata": {},
   "outputs": [
    {
     "name": "stdout",
     "output_type": "stream",
     "text": [
      "Found  at %d:%d 15 20\n"
     ]
    }
   ],
   "source": [
    "import re\n",
    "String= 'The concept of electric cars is relatively new in the automotive industry'\n",
    "sub_string = 'electric'\n",
    "for matches in String:\n",
    "    mt=re.finditer(sub_string, String)\n",
    "    s = m.start()\n",
    "    e = m.end()\n",
    "    \n",
    "print('Found  at %d:%d', s, e)\n"
   ]
  },
  {
   "cell_type": "code",
   "execution_count": null,
   "id": "e0a6e646",
   "metadata": {},
   "outputs": [],
   "source": []
  },
  {
   "cell_type": "markdown",
   "id": "d3855db0",
   "metadata": {},
   "source": [
    "19. Write a Python program to convert a date of yyyy-mm-dd format to dd-mm-yyyy format."
   ]
  },
  {
   "cell_type": "code",
   "execution_count": 130,
   "id": "88fce581",
   "metadata": {},
   "outputs": [
    {
     "name": "stdout",
     "output_type": "stream",
     "text": [
      "Enter date in yyyy-mm-dd ::2014-05-21\n",
      "Original date in YYY-MM-DD Format:  2014-05-21\n",
      "New date in DD-MM-YYYY Format:  21-05-2014\n"
     ]
    }
   ],
   "source": [
    "import re\n",
    "dt=input(\"Enter date in yyyy-mm-dd ::\")\n",
    "New_Date=re.sub(r'(\\d{4})-(\\d{1,2})-(\\d{1,2})', '\\\\3-\\\\2-\\\\1', dt)\n",
    "\n",
    "print(\"Original date in YYY-MM-DD Format: \",dt)\n",
    "print(\"New date in DD-MM-YYYY Format: \",New_Date)\n"
   ]
  },
  {
   "cell_type": "code",
   "execution_count": null,
   "id": "cf0dd318",
   "metadata": {},
   "outputs": [],
   "source": []
  },
  {
   "cell_type": "markdown",
   "id": "237d9cfd",
   "metadata": {},
   "source": [
    "20. Create a function in python to find all decimal numbers with a precision of 1 or 2 in a string. The use of the re.compile() method is mandatory.\n",
    "Sample Text: \"01.12 0132.123 2.31875 145.8 3.01 27.25 0.25\"\n"
   ]
  },
  {
   "cell_type": "code",
   "execution_count": 147,
   "id": "f49b2489",
   "metadata": {},
   "outputs": [
    {
     "name": "stdout",
     "output_type": "stream",
     "text": [
      "[]\n"
     ]
    }
   ],
   "source": [
    "import re\n",
    "\n",
    "Sample_Text: \"01.12 0132.123 2.31875 145.8 3.01 27.25 0.25\"\n",
    "pattern = re.compile(r\"\"\"^[0-9]+(\\.[0-9]{1,2})?$\"\"\")\n",
    "\n",
    "decimal_numbers = pattern.findall(Sample_Text)\n",
    "print(decimal_numbers)\n",
    " \n"
   ]
  },
  {
   "cell_type": "code",
   "execution_count": null,
   "id": "85fac085",
   "metadata": {},
   "outputs": [],
   "source": []
  },
  {
   "cell_type": "code",
   "execution_count": null,
   "id": "0ba9324e",
   "metadata": {},
   "outputs": [],
   "source": [
    "21. Write a Python program to separate and print the numbers and their position of a given string."
   ]
  },
  {
   "cell_type": "code",
   "execution_count": 171,
   "id": "0222eff7",
   "metadata": {},
   "outputs": [
    {
     "name": "stdout",
     "output_type": "stream",
     "text": [
      "18\n",
      "Index position: 17\n",
      "2023\n",
      "Index position: 41\n"
     ]
    }
   ],
   "source": [
    "import re\n",
    "\n",
    "Sample_text = \"we estimate that 18% of new cars sold in 2023 will be electric.\"  \n",
    "\n",
    "for m in re.finditer(\"\\d+\", Sample_text):\n",
    "    print(m.group(0))\n",
    "    print(\"Index position:\", m.start())\n"
   ]
  },
  {
   "cell_type": "code",
   "execution_count": null,
   "id": "5b7f287b",
   "metadata": {},
   "outputs": [],
   "source": []
  },
  {
   "cell_type": "markdown",
   "id": "5722a553",
   "metadata": {},
   "source": [
    "22.- Write a regular expression in python program to extract maximum/largest numeric value from a string.\n",
    "Sample Text:  'My marks in each semester are: 947, 896, 926, 524, 734, 950, 642'\n"
   ]
  },
  {
   "cell_type": "code",
   "execution_count": 172,
   "id": "47832891",
   "metadata": {},
   "outputs": [
    {
     "name": "stdout",
     "output_type": "stream",
     "text": [
      "950\n"
     ]
    }
   ],
   "source": [
    "import re\n",
    "\n",
    "Sample = 'My marks in each semester are: 947, 896, 926, 524, 734, 950, 642'\n",
    "\n",
    "pattern = re.findall(r'\\d+', Sample)\n",
    "num_values = [int(value) for value in pattern]\n",
    "\n",
    "maximum = max(num_values)\n",
    "\n",
    "print(maximum)\n"
   ]
  },
  {
   "cell_type": "markdown",
   "id": "cd6ea129",
   "metadata": {},
   "source": [
    "23. Create a function in python to insert spaces between words starting with capital letters.\n",
    "Sample Text: “RegularExpressionIsAnImportantTopicInPython\"\n"
   ]
  },
  {
   "cell_type": "code",
   "execution_count": 177,
   "id": "0d16aced",
   "metadata": {},
   "outputs": [
    {
     "name": "stdout",
     "output_type": "stream",
     "text": [
      "Regular Expression Is An Important Topic In Python\n"
     ]
    }
   ],
   "source": [
    "import re\n",
    "Sample_Text= \"RegularExpressionIsAnImportantTopicInPython\"\n",
    "\n",
    "space=re.sub(r\"(\\w)([A-Z])\", r\"\\1 \\2\", Sample_Text)\n",
    "\n",
    "print(space)\n",
    "\n",
    "\n"
   ]
  },
  {
   "cell_type": "code",
   "execution_count": null,
   "id": "aa7babb8",
   "metadata": {},
   "outputs": [],
   "source": []
  },
  {
   "cell_type": "markdown",
   "id": "fb6557b3",
   "metadata": {},
   "source": [
    "24.Python regex to find sequences of one upper case letter followed by lower case letters"
   ]
  },
  {
   "cell_type": "code",
   "execution_count": 179,
   "id": "b5fe36ef",
   "metadata": {},
   "outputs": [
    {
     "name": "stdout",
     "output_type": "stream",
     "text": [
      "['Python', 'Regex', 'Sequences', 'Of', 'One', 'Upper', 'Followed', 'Lower', 'Letters']\n"
     ]
    }
   ],
   "source": [
    "import re\n",
    "text = \"Python Regex to find Sequences Of One Upper case letter Followed by Lower case Letters.\"\n",
    "pattern = re.compile(r'\\b[A-Z][a-z]+')\n",
    "matches = pattern.findall(text)\n",
    "print(matches)\n",
    "\n"
   ]
  },
  {
   "cell_type": "code",
   "execution_count": null,
   "id": "57e3ee11",
   "metadata": {},
   "outputs": [],
   "source": []
  },
  {
   "cell_type": "markdown",
   "id": "c80fef65",
   "metadata": {},
   "source": [
    "25.Write a Python program to remove continuous duplicate words from Sentence using Regular Expression.\n",
    "Sample Text: \"Hello hello world world\"\n"
   ]
  },
  {
   "cell_type": "code",
   "execution_count": 181,
   "id": "f7ae84c7",
   "metadata": {},
   "outputs": [
    {
     "name": "stdout",
     "output_type": "stream",
     "text": [
      "Hello hello world\n"
     ]
    }
   ],
   "source": [
    "import re\n",
    "Sample_Text=\"Hello hello world world\"\n",
    "pattern = r'\\b(\\w+)(\\s+\\1\\b)+'\n",
    "result = re.sub(pattern, r'\\1', Sample_Text)\n",
    "print(result)\n",
    "\n",
    "\n"
   ]
  },
  {
   "cell_type": "code",
   "execution_count": null,
   "id": "23c352fc",
   "metadata": {},
   "outputs": [],
   "source": []
  },
  {
   "cell_type": "markdown",
   "id": "9e5d43e6",
   "metadata": {},
   "source": [
    "26. Write a python program using RegEx to accept string ending with alphanumeric character."
   ]
  },
  {
   "cell_type": "code",
   "execution_count": 185,
   "id": "d832a60b",
   "metadata": {},
   "outputs": [
    {
     "data": {
      "text/plain": [
       "True"
      ]
     },
     "execution_count": 185,
     "metadata": {},
     "output_type": "execute_result"
    }
   ],
   "source": [
    "import re\n",
    "\n",
    "def check(string):\n",
    "  pattern = r\"\\w$\"\n",
    "  match = re.search(pattern, string)\n",
    "  if match:\n",
    "    return True\n",
    "  else:\n",
    "    return False\n",
    "\n",
    "alphanum=\"agjaha12\"\n",
    "\n",
    "check(alphanum)"
   ]
  },
  {
   "cell_type": "code",
   "execution_count": null,
   "id": "9e1dca75",
   "metadata": {},
   "outputs": [],
   "source": []
  },
  {
   "cell_type": "markdown",
   "id": "b59c1fb6",
   "metadata": {},
   "source": [
    "27.Write a python program using RegEx to extract the hashtags.\n",
    "Sample Text:  \"\"\"RT @kapil_kausik: #Doltiwal I mean #xyzabc is \"hurt\" by #Demonetization as the same has rendered USELESS <ed><U+00A0><U+00BD><ed><U+00B1><U+0089> \"acquired funds\" No wo\"\"\"\n"
   ]
  },
  {
   "cell_type": "code",
   "execution_count": 186,
   "id": "2bf45447",
   "metadata": {},
   "outputs": [
    {
     "name": "stdout",
     "output_type": "stream",
     "text": [
      "['#Doltiwal', '#xyzabc', '#Demonetization']\n"
     ]
    }
   ],
   "source": [
    "import re\n",
    "\n",
    "def extract(text):\n",
    "  hashtags = re.findall(r'#\\w+', text)\n",
    "  return hashtags\n",
    "\n",
    "Sample_Text= \"\"\"RT @kapil_kausik: #Doltiwal I mean #xyzabc is \"hurt\" by #Demonetization as the same has rendered USELESS <U+00A0><U+00BD><U+00B1><U+0089> \"acquired funds\" No wo\"\"\"\n",
    "\n",
    "hashtags = extract(Sample_Text)\n",
    "print(hashtags)\n",
    "\n"
   ]
  },
  {
   "cell_type": "code",
   "execution_count": null,
   "id": "c5928501",
   "metadata": {},
   "outputs": [],
   "source": []
  },
  {
   "cell_type": "markdown",
   "id": "4ae9eed7",
   "metadata": {},
   "source": [
    "28. Write a python program using RegEx to remove <U+..> like symbols\n",
    "Check the below sample text, there are strange symbols something of the sort <U+..> all over the place. You need to come up with a general Regex expression that will cover all such symbols.\n",
    "Sample Text: \"@Jags123456 Bharat band on 28??<ed><U+00A0><U+00BD><ed><U+00B8><U+0082>Those who  are protesting #demonetization  are all different party leaders\"\n"
   ]
  },
  {
   "cell_type": "code",
   "execution_count": 188,
   "id": "6f3e6cf2",
   "metadata": {},
   "outputs": [
    {
     "name": "stdout",
     "output_type": "stream",
     "text": [
      "@Jags123456 Bharat band on 28??Those who are protesting #demonetization are all different party leaders\n"
     ]
    }
   ],
   "source": [
    "import re\n",
    "\n",
    "Sample_text =  \"@Jags123456 Bharat band on 28??<U+00A0><U+00BD><U+00B8><U+0082>Those who are protesting #demonetization are all different party leaders\"\n",
    "\n",
    "pattern = r\"<U\\+\\w{4}>\"\n",
    "result = re.sub(pattern, \"\", Sample_text)\n",
    "\n",
    "print(result)\n",
    "\n"
   ]
  },
  {
   "cell_type": "code",
   "execution_count": null,
   "id": "4be7b3d3",
   "metadata": {},
   "outputs": [],
   "source": []
  },
  {
   "cell_type": "markdown",
   "id": "eb52983c",
   "metadata": {},
   "source": [
    "29.Write a python program to extract dates from the text stored in the text file.\n",
    "Sample Text: Ron was born on 12-09-1992 and he was admitted to school 15-12-1999.\n"
   ]
  },
  {
   "cell_type": "code",
   "execution_count": 198,
   "id": "d89d1c5e",
   "metadata": {},
   "outputs": [
    {
     "name": "stdout",
     "output_type": "stream",
     "text": [
      "12-09-1992\n",
      "15-12-1999\n"
     ]
    }
   ],
   "source": [
    "import re\n",
    "\n",
    "\n",
    "Sample_Text=\" Ron was born on 12-09-1992 and he was admitted to school 15-12-1999.\"\n",
    "pattern = r'\\d{2}-\\d{2}-\\d{4}'\n",
    "\n",
    "dates = re.findall(pattern,Sample_Text)\n",
    "for d in dates:\n",
    "  print(d)\n"
   ]
  },
  {
   "cell_type": "code",
   "execution_count": null,
   "id": "b69b16a2",
   "metadata": {},
   "outputs": [],
   "source": []
  },
  {
   "cell_type": "code",
   "execution_count": null,
   "id": "73c5d104",
   "metadata": {},
   "outputs": [],
   "source": [
    "30. Create a function in python to remove all words from a string of length between 2 and 4.\n",
    "The use of the re.compile() method is mandatory.\n"
   ]
  },
  {
   "cell_type": "code",
   "execution_count": 199,
   "id": "7bce65a9",
   "metadata": {},
   "outputs": [
    {
     "name": "stdout",
     "output_type": "stream",
     "text": [
      " estimate  %         electric.\n"
     ]
    }
   ],
   "source": [
    "import re\n",
    "\n",
    "def remove_words(string):\n",
    "  pattern = re.compile(r'\\b\\w{2,4}\\b')\n",
    "  modified_string = re.sub(pattern, '', string)\n",
    "  return modified_string\n",
    "\n",
    "Sample_text = \"we estimate that 18% of new cars sold in 2023 will be electric.\"\n",
    "New_string=remove_words(Sample_text)\n",
    "print(New_string)"
   ]
  },
  {
   "cell_type": "code",
   "execution_count": null,
   "id": "246d5042",
   "metadata": {},
   "outputs": [],
   "source": []
  }
 ],
 "metadata": {
  "kernelspec": {
   "display_name": "Python 3 (ipykernel)",
   "language": "python",
   "name": "python3"
  },
  "language_info": {
   "codemirror_mode": {
    "name": "ipython",
    "version": 3
   },
   "file_extension": ".py",
   "mimetype": "text/x-python",
   "name": "python",
   "nbconvert_exporter": "python",
   "pygments_lexer": "ipython3",
   "version": "3.11.4"
  }
 },
 "nbformat": 4,
 "nbformat_minor": 5
}
