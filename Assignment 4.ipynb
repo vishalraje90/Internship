{
 "cells": [
  {
   "cell_type": "markdown",
   "id": "e13f0c9a",
   "metadata": {},
   "source": [
    "                                               ASSIGNMENT-4\n",
    "\n",
    "\n",
    "                                               WEB SCRAPING"
   ]
  },
  {
   "cell_type": "code",
   "execution_count": 1,
   "id": "eef9605c",
   "metadata": {},
   "outputs": [
    {
     "name": "stdout",
     "output_type": "stream",
     "text": [
      "Collecting bs4\n",
      "  Obtaining dependency information for bs4 from https://files.pythonhosted.org/packages/51/bb/bf7aab772a159614954d84aa832c129624ba6c32faa559dfb200a534e50b/bs4-0.0.2-py2.py3-none-any.whl.metadata\n",
      "  Downloading bs4-0.0.2-py2.py3-none-any.whl.metadata (411 bytes)\n",
      "Requirement already satisfied: beautifulsoup4 in c:\\users\\vishalraje\\anaconda3\\lib\\site-packages (from bs4) (4.12.2)\n",
      "Requirement already satisfied: soupsieve>1.2 in c:\\users\\vishalraje\\anaconda3\\lib\\site-packages (from beautifulsoup4->bs4) (2.4)\n",
      "Downloading bs4-0.0.2-py2.py3-none-any.whl (1.2 kB)\n",
      "Installing collected packages: bs4\n",
      "Successfully installed bs4-0.0.2\n",
      "Requirement already satisfied: requests in c:\\users\\vishalraje\\anaconda3\\lib\\site-packages (2.31.0)\n",
      "Requirement already satisfied: charset-normalizer<4,>=2 in c:\\users\\vishalraje\\anaconda3\\lib\\site-packages (from requests) (2.0.4)\n",
      "Requirement already satisfied: idna<4,>=2.5 in c:\\users\\vishalraje\\anaconda3\\lib\\site-packages (from requests) (3.4)\n",
      "Requirement already satisfied: urllib3<3,>=1.21.1 in c:\\users\\vishalraje\\anaconda3\\lib\\site-packages (from requests) (1.26.16)\n",
      "Requirement already satisfied: certifi>=2017.4.17 in c:\\users\\vishalraje\\anaconda3\\lib\\site-packages (from requests) (2023.7.22)\n"
     ]
    }
   ],
   "source": [
    "!pip install bs4\n",
    "!pip install requests"
   ]
  },
  {
   "cell_type": "markdown",
   "id": "19bebe45",
   "metadata": {},
   "source": [
    "1.Write a python program to display IMDB’s Top rated 100 Indian movies’ data https://www.imdb.com/list/ls056092300/ (i.e. name, rating, year ofrelease) and make data frame."
   ]
  },
  {
   "cell_type": "code",
   "execution_count": 25,
   "id": "0d64ce12",
   "metadata": {},
   "outputs": [
    {
     "name": "stdout",
     "output_type": "stream",
     "text": [
      "                                 Name  Rating  Year\n",
      "0                     Ship of Theseus     8.0  2012\n",
      "1                              Iruvar     8.4  1997\n",
      "2                     Kaagaz Ke Phool     7.8  1959\n",
      "3   Lagaan: Once Upon a Time in India     8.1  2001\n",
      "4                     Pather Panchali     8.2  1955\n",
      "..                                ...     ...   ...\n",
      "95                        Apur Sansar     8.4  1959\n",
      "96                        Kanchivaram     8.2  2008\n",
      "97                    Monsoon Wedding     7.3  2001\n",
      "98                              Black     8.1  2005\n",
      "99                            Deewaar     8.0  1975\n",
      "\n",
      "[100 rows x 3 columns]\n"
     ]
    }
   ],
   "source": [
    "from bs4 import BeautifulSoup\n",
    "import requests\n",
    "import pandas as pd\n",
    "\n",
    "page = requests.get(\"https://www.imdb.com/list/ls056092300\")\n",
    "soup = BeautifulSoup(page.text, \"html.parser\")\n",
    "\n",
    "\n",
    "Top_movies = soup.find_all(\"div\", class_=\"lister-item-content\")\n",
    "\n",
    "names = []\n",
    "ratings = []\n",
    "years = []\n",
    "\n",
    "for movie in Top_movies:\n",
    "    name = movie.find(\"a\").text.strip() \n",
    "    rating = movie.find(\"span\", class_=\"ipl-rating-star__rating\").text \n",
    "    year = movie.find(\"span\", class_=\"lister-item-year\").text.strip(\"()\")  \n",
    "    \n",
    "    names.append(name)\n",
    "    ratings.append(float(rating))\n",
    "    years.append(year)\n",
    "\n",
    "df = pd.DataFrame({\n",
    "    \"Name\": names,\n",
    "    \"Rating\": ratings,\n",
    "    \"Year\": years\n",
    "})\n",
    "\n",
    "print(df)"
   ]
  },
  {
   "cell_type": "code",
   "execution_count": null,
   "id": "2b370760",
   "metadata": {},
   "outputs": [],
   "source": []
  },
  {
   "cell_type": "markdown",
   "id": "83e091f6",
   "metadata": {},
   "source": [
    "2.Write a python program to scrape product name, price and discounts from https://peachmode.com/search?q=bags"
   ]
  },
  {
   "cell_type": "code",
   "execution_count": 53,
   "id": "e0c33cd7",
   "metadata": {},
   "outputs": [
    {
     "data": {
      "text/plain": [
       "[]"
      ]
     },
     "execution_count": 53,
     "metadata": {},
     "output_type": "execute_result"
    }
   ],
   "source": [
    "import requests\n",
    "from bs4 import BeautifulSoup\n",
    "\n",
    "\n",
    "url = \"https://peachmode.com/search?q=bags\"\n",
    "\n",
    "\n",
    "response = requests.get(url)\n",
    "\n",
    "\n",
    "soup = BeautifulSoup(response.text, \"html.parser\")\n",
    "\n",
    "\n",
    "products = soup.find_all(\"div\", class_=\"wizzy-search-results\")\n",
    "\n",
    "\n",
    "\n",
    "\n",
    "\n"
   ]
  },
  {
   "cell_type": "code",
   "execution_count": null,
   "id": "0d8d7ccc",
   "metadata": {},
   "outputs": [],
   "source": []
  },
  {
   "cell_type": "markdown",
   "id": "97a98d5c",
   "metadata": {},
   "source": [
    "4.Write a python program to scrape details of all the posts from https://www.patreon.com/coreyms .Scrape the\n",
    "heading, date, content and the likes for the video from the link for the youtube video from the post."
   ]
  },
  {
   "cell_type": "code",
   "execution_count": 56,
   "id": "1dfc490f",
   "metadata": {},
   "outputs": [
    {
     "data": {
      "text/plain": [
       "<Response [200]>"
      ]
     },
     "execution_count": 56,
     "metadata": {},
     "output_type": "execute_result"
    }
   ],
   "source": [
    "import requests\n",
    "from bs4 import BeautifulSoup\n",
    "\n",
    "url = \"https://www.patreon.com/coreyms\"\n",
    "response = requests.get(url)\n",
    "\n",
    "response\n"
   ]
  },
  {
   "cell_type": "code",
   "execution_count": null,
   "id": "3e674ffc",
   "metadata": {},
   "outputs": [],
   "source": []
  },
  {
   "cell_type": "markdown",
   "id": "db4f1e3f",
   "metadata": {},
   "source": [
    "5. Write a python program to scrape house details from mentioned URL. It should include house title, location, area, EMI and price from https://www.nobroker.in/ .Enter three localities which are Indira Nagar, Jayanagar, Rajaji Nagar."
   ]
  },
  {
   "cell_type": "code",
   "execution_count": 57,
   "id": "c8bf4bc6",
   "metadata": {},
   "outputs": [],
   "source": [
    "import requests\n",
    "from bs4 import BeautifulSoup\n",
    "\n",
    "localities = [\"indira-nagar-bangalore\", \"jayanagar_bangalore\", \"rajaji-nagar_bangalore\"]\n",
    "\n",
    "\n",
    "for locality in localities:\n",
    "   \n",
    "    url = f\"https://www.nobroker.in/property/sale/{locality}\"\n",
    "\n",
    "    response = requests.get(url)\n",
    "\n",
    "    soup = BeautifulSoup(response.text, \"html.parser\")\n",
    "    \n",
    "    houses = soup.find_all(\"div\", class_=\"app-wrapper \")\n",
    "\n",
    "    houses\n",
    "    \n"
   ]
  },
  {
   "cell_type": "code",
   "execution_count": null,
   "id": "ae75515d",
   "metadata": {},
   "outputs": [],
   "source": []
  },
  {
   "cell_type": "code",
   "execution_count": null,
   "id": "c920350c",
   "metadata": {},
   "outputs": [],
   "source": []
  },
  {
   "cell_type": "markdown",
   "id": "ea3876d4",
   "metadata": {},
   "source": [
    "6. Write a python program to scrape first 10 product details which include product name , price , Image URL from https://www.bewakoof.com/bestseller?sort=popular ."
   ]
  },
  {
   "cell_type": "code",
   "execution_count": 1,
   "id": "39451b6c",
   "metadata": {},
   "outputs": [
    {
     "name": "stdout",
     "output_type": "stream",
     "text": [
      "Product Name: Bewakoof®\n",
      "Price: ₹499\n",
      "Image URL: https://images.bewakoof.com/t640/women-aop-oversize-t-shirt-3-580366-1682421809-1.JPG\n",
      "---------------------------------------\n",
      "Product Name: bewakoof x garfield\n",
      "Price: ₹399\n",
      "Image URL: https://images.bewakoof.com/t640/women-aop-oversized-t-shirt-11-582004-1685446587-1.jpg\n",
      "---------------------------------------\n",
      "Product Name: bewakoof x disney\n",
      "Price: ₹379\n",
      "Image URL: https://images.bewakoof.com/t640/women-s-white-oversized-t-shirt-584434-1684230405-1.jpg\n",
      "---------------------------------------\n",
      "Product Name: bewakoof x looney tunes\n",
      "Price: ₹499\n",
      "Image URL: https://images.bewakoof.com/t640/women-aop-oversize-t-shirt-2-580367-1685446636-1.jpg\n",
      "---------------------------------------\n",
      "Product Name: Bewakoof®\n",
      "Price: ₹599\n",
      "Image URL: https://images.bewakoof.com/t640/women-s-pink-white-camo-printed-oversized-t-shirt-580369-1686301190-1.jpg\n",
      "---------------------------------------\n",
      "Product Name: Bewakoof®\n",
      "Price: ₹1299\n",
      "Image URL: https://images.bewakoof.com/t640/women-s-black-straight-cargo-pants-620005-1708328865-1.jpg\n",
      "---------------------------------------\n",
      "Product Name: Bewakoof®\n",
      "Price: ₹1199\n",
      "Image URL: https://images.bewakoof.com/t640/women-s-blue-straight-cargo-pants-620014-1708329141-1.jpg\n",
      "---------------------------------------\n",
      "Product Name: Bewakoof®\n",
      "Price: ₹1399\n",
      "Image URL: https://images.bewakoof.com/t640/women-s-brown-straight-cargo-pants-620020-1708328904-1.jpg\n",
      "---------------------------------------\n",
      "Product Name: Bewakoof®\n",
      "Price: ₹499\n",
      "Image URL: https://images.bewakoof.com/t640/men-s-black-t-shirt-106-1701423878-1.jpg\n",
      "---------------------------------------\n",
      "Product Name: Bewakoof®\n",
      "Price: ₹379\n",
      "Image URL: https://images.bewakoof.com/t640/jet-black-vest-210687-1659522825-1.jpg\n",
      "---------------------------------------\n"
     ]
    }
   ],
   "source": [
    "import requests\n",
    "from bs4 import BeautifulSoup\n",
    "\n",
    "url = \"https://www.bewakoof.com/bestseller?sort=popular\"   \n",
    "response = requests.get(url)\n",
    " \n",
    "    \n",
    "soup = BeautifulSoup(response.text, 'html.parser')\n",
    "\n",
    "    \n",
    "   \n",
    "product_containers = soup.find_all('div', class_='productCardBox')\n",
    "\n",
    "for product in product_containers[:10]: \n",
    "       \n",
    "        name = product.find(\"h3\", class_=\"brand-name undefined\").text.strip()\n",
    "        \n",
    "        price = product.find(\"div\", class_=\"discountedPriceText clr-p-black false\").text.strip()\n",
    "        \n",
    "        image_url = product.find('img')['src']\n",
    "        \n",
    "      \n",
    "        print(\"Product Name:\", name)\n",
    "        print(\"Price:\", price)\n",
    "        print(\"Image URL:\", image_url)\n",
    "        print(\"---------------------------------------\")\n"
   ]
  },
  {
   "cell_type": "code",
   "execution_count": null,
   "id": "214d3af9",
   "metadata": {},
   "outputs": [],
   "source": []
  },
  {
   "cell_type": "markdown",
   "id": "63065478",
   "metadata": {},
   "source": [
    "7. Please visit https://www.cnbc.com/world/?region=world and scrap- a) headings b) date c) News link"
   ]
  },
  {
   "cell_type": "code",
   "execution_count": 15,
   "id": "4001a0e0",
   "metadata": {},
   "outputs": [
    {
     "name": "stdout",
     "output_type": "stream",
     "text": [
      "Heading: 14 Min AgoHere's the average credit score at every age in the U.S.—see how yours stacks up\n",
      "Link: https://www.cnbc.comhttps://www.cnbc.com/2024/04/27/average-credit-score-at-every-age-in-the-us.html\n",
      "\n",
      "Heading: 14 Min Ago12 portfolio companies report in the week ahead. What we want to hear from each\n",
      "Link: https://www.cnbc.com/investingclub/\n",
      "\n",
      "Heading: 14 Min AgoThere's a new No. 1 U.S. airline—it's not Delta\n",
      "Link: https://www.cnbc.comhttps://www.cnbc.com/2024/04/27/best-us-airlines-wallethub.html\n",
      "\n",
      "Heading: 48 Min AgoBuy tech stocks like Apple and Nvidia ahead of earnings, Morgan Stanley says\n",
      "Link: https://www.cnbc.com/pro/\n",
      "\n",
      "Heading: 50 Min AgoThese stocks reporting results soon already have earnings momentum at their back\n",
      "Link: https://www.cnbc.com/pro/\n",
      "\n",
      "Heading: 51 Min AgoAn AI-focused ETF from a hedge fund veteran is gaining attention\n",
      "Link: https://www.cnbc.com/pro/\n",
      "\n",
      "Heading: 1 Hour AgoHow the November election may influence Social Security's future\n",
      "Link: https://www.cnbc.comhttps://www.cnbc.com/2024/04/27/how-the-november-election-may-influence-social-securitys-future.html\n",
      "\n",
      "Heading: 1 Hour AgoThis 'super easy' move earned a couple over $700 to put toward a dream vacation\n",
      "Link: https://www.cnbc.comhttps://www.cnbc.com/2024/04/27/how-couple-sold-jewelry-to-help-fund-vacation.html\n",
      "\n",
      "Heading: 2 Hours AgoDigital ad market is finally on the mend, bouncing back from 'dark days' of 2022\n",
      "Link: https://www.cnbc.comhttps://www.cnbc.com/2024/04/27/digital-ad-market-on-mend-as-meta-alphabet-snap-show-faster-growth-.html\n",
      "\n",
      "Heading: 2 Hours AgoWhat this NFL Draft pick plans to do with his new money—from mutual funds to Jordans\n",
      "Link: https://www.cnbc.comhttps://www.cnbc.com/2024/04/27/nfl-draft-pick-braden-fiske-what-i-plan-to-do-with-my-money.html\n",
      "\n",
      "Heading: 15 Hours AgoCramer's Lightning Round: Diamondback Energy is a buy\n",
      "Link: https://www.cnbc.comhttps://www.cnbc.com/2024/04/26/cramers-lightning-round-diamondback-energy-is-a-buy.html\n",
      "\n",
      "Heading: 16 Hours AgoCramer's week ahead: Fed meeting and earnings from Apple, Amazon, Eli Lilly\n",
      "Link: https://www.cnbc.comhttps://www.cnbc.com/2024/04/26/cramers-week-ahead-fed-meeting-and-apple-amazon-eli-lilly-report.html\n",
      "\n",
      "Heading: 16 Hours AgoCEO says the FICO score provider isn't a monopoly: 'There are alternatives'\n",
      "Link: https://www.cnbc.comhttps://www.cnbc.com/2024/04/26/ceo-says-the-fico-score-provider-isnt-a-monopoly-there-are-alternatives.html\n",
      "\n",
      "Heading: 18 Hours AgoSnap shares rocket 28% on unexpected profit, better-than-expected revenue\n",
      "Link: https://www.cnbc.comhttps://www.cnbc.com/2024/04/26/snap-shares-rocket-28percent-as-company-reports-unexpected-profit.html\n",
      "\n",
      "Heading: 19 Hours AgoAll the data is showing inflation isn't going away, making things tough on Fed\n",
      "Link: https://www.cnbc.comhttps://www.cnbc.com/2024/04/26/all-the-data-shows-inflation-isnt-going-away-making-things-tough-on-fed.html\n",
      "\n",
      "Heading: 19 Hours AgoThe Fed will be the main event in the week ahead that includes a jobs report\n",
      "Link: https://www.cnbc.com/pro/\n",
      "\n",
      "Heading: 19 Hours AgoDividend stocks are poised to outperform, says BofA. Here are names on its list\n",
      "Link: https://www.cnbc.com/pro/\n",
      "\n",
      "Heading: 19 Hours AgoAmerican cuts some international flights into 2025, cites Boeing delivery delays\n",
      "Link: https://www.cnbc.comhttps://www.cnbc.com/2024/04/26/american-airlines-cuts-some-international-flights-citing-boeing-delays.html\n",
      "\n",
      "Heading: 20 Hours AgoExxon working on tech to remove CO2 in atmosphere but costs need to fall dramatically\n",
      "Link: https://www.cnbc.comhttps://www.cnbc.com/2024/04/26/climate-exxon-working-on-direct-air-capture-but-costs-need-to-fall.html\n",
      "\n",
      "Heading: 20 Hours AgoWhy chipmakers are the stars of the week, plus Cramer's read-through on 3 reports\n",
      "Link: https://www.cnbc.com/investingclub/\n",
      "\n",
      "Heading: 20 Hours AgoA CVS Health pharmacy in Vegas becomes first to join new national pharmacy union\n",
      "Link: https://www.cnbc.comhttps://www.cnbc.com/2024/04/26/cvs-omnicare-pharmacy-in-vegas-is-first-to-join-new-pharmacy-union.html\n",
      "\n",
      "Heading: 21 Hours AgoNvidia jumps 15% this week as Meta, Microsoft and Alphabet ramp up AI spending\n",
      "Link: https://www.cnbc.com/investingclub/\n",
      "\n",
      "Heading: 21 Hours AgoTesla Autopilot has 'critical safety gap' linked to hundreds of collisions: NHTSA\n",
      "Link: https://www.cnbc.comhttps://www.cnbc.com/2024/04/26/tesla-autopilot-linked-to-hundreds-of-collisions-has-critical-safety-gap-nhtsa.html\n",
      "\n",
      "Heading: 21 Hours AgoAlphabet and Chipotle are among the most overbought names on Wall Street.\n",
      "Link: https://www.cnbc.com/pro/\n",
      "\n",
      "Heading: 21 Hours AgoHere's why new home sales inch higher despite 7% mortgage rates\n",
      "Link: https://www.cnbc.comhttps://www.cnbc.com/2024/04/26/heres-why-new-home-sales-inch-higher-despite-7percent-mortgage-rates.html\n",
      "\n",
      "Heading: 22 Hours AgoU.S. chipmaker Intel was once dominant, but now it's struggling to stay relevant\n",
      "Link: https://www.cnbc.comhttps://www.cnbc.com/2024/04/26/intel-dominated-us-chip-industry-now-struggling-to-stay-relevant.html\n",
      "\n",
      "Heading: 22 Hours AgoStocks making the biggest moves midday: Microsoft, Alphabet, Snap and more\n",
      "Link: https://www.cnbc.comhttps://www.cnbc.com/2024/04/26/stocks-making-the-biggest-moves-midday-msft-googl-xom-snap.html\n",
      "\n",
      "Heading: 22 Hours AgoWhat analysts are saying after latest Alphabet earnings\n",
      "Link: https://www.cnbc.com/pro/\n",
      "\n",
      "Heading: 22 Hours AgoIRS free filing pilot processed more than 140,000 returns, commissioner says\n",
      "Link: https://www.cnbc.comhttps://www.cnbc.com/2024/04/26/irs-direct-file-pilot-processed-more-than-140000-returns-this-season.html\n",
      "\n",
      "Heading: 22 Hours AgoResearcher who has interviewed 100+ people about loneliness: My best advice\n",
      "Link: https://www.cnbc.comhttps://www.cnbc.com/2024/04/26/best-advice-from-researcher-and-scholar-of-loneliness.html\n",
      "\n"
     ]
    }
   ],
   "source": [
    "import requests\n",
    "from bs4 import BeautifulSoup\n",
    "\n",
    "url = \"https://www.cnbc.com/world/?region=world\"\n",
    "\n",
    "\n",
    "response = requests.get(url)\n",
    "\n",
    "\n",
    "soup = BeautifulSoup(response.text, \"html.parser\")\n",
    "\n",
    "\n",
    "source = soup.find_all(\"div\", class_=\"LatestNews-container\")\n",
    "\n",
    "\n",
    "for article in source:\n",
    "    \n",
    "    heading = article.text.strip()\n",
    " \n",
    "    link = article.find(\"a\")[\"href\"]\n",
    "    full_link = \"https://www.cnbc.com\" + link\n",
    "\n",
    "    print(\"Heading:\", heading)\n",
    "    print(\"Link:\", full_link)\n",
    "    print()"
   ]
  },
  {
   "cell_type": "code",
   "execution_count": null,
   "id": "6faa3fcf",
   "metadata": {},
   "outputs": [],
   "source": []
  },
  {
   "cell_type": "markdown",
   "id": "047a5a3a",
   "metadata": {},
   "source": [
    "8. Please visit https://www.keaipublishing.com/en/journals/artificial-intelligence-in-agriculture/most-downloaded- articles/ and scrap- a) Paper title b) date c) Author"
   ]
  },
  {
   "cell_type": "code",
   "execution_count": 21,
   "id": "177f46ef",
   "metadata": {},
   "outputs": [
    {
     "name": "stdout",
     "output_type": "stream",
     "text": [
      "Title: Implementation of artificial intelligence in agriculture for optimisation of irrigation and application of pesticides and herbicides\n",
      "Date: 2020\n",
      "Author: Tanha Talaviya |  Dhara Shah |  Nivedita Patel |  Hiteshri Yagnik |  Manan Shah\n",
      "\n",
      "Title: A comprehensive review on automation in agriculture using artificial intelligence\n",
      "Date: June 2019\n",
      "Author: Kirtan Jha |  Aalap Doshi |  Poojan Patel |  Manan Shah\n",
      "\n",
      "Title: Review of agricultural IoT technology\n",
      "Date: 2022\n",
      "Author: Jinyuan Xu |  Baoxing Gu |  Guangzhao Tian\n",
      "\n",
      "Title: Automation and digitization of agriculture using artificial intelligence and internet of things\n",
      "Date: 2021\n",
      "Author: A. Subeesh |  C.R. Mehta\n",
      "\n",
      "Title: Real-time hyperspectral imaging for the in-field estimation of strawberry ripeness with deep learning\n",
      "Date: 2020\n",
      "Author: Zongmei Gao |  Yuanyuan Shao |  Guantao Xuan |  Yongxian Wang |  Yi Liu |  Xiang Han\n",
      "\n",
      "Title: A review of imaging techniques for plant disease detection\n",
      "Date: 2020\n",
      "Author: Vijai Singh |  Namita Sharma |  Shikha Singh\n",
      "\n",
      "Title: Applications of electronic nose (e-nose) and electronic tongue (e-tongue) in food quality-related properties determination: A review\n",
      "Date: 2020\n",
      "Author: Juzhong Tan |  Jie Xu\n",
      "\n",
      "Title: Fruit ripeness classification: A survey\n",
      "Date: March 2023\n",
      "Author: Matteo Rizzo |  Matteo Marcuzzo |  Alessandro Zangari |  Andrea Gasparetto |  Andrea Albarelli\n",
      "\n",
      "Title: Deep learning based computer vision approaches for smart agricultural applications\n",
      "Date: 2022\n",
      "Author: V.G. Dhanya |  A. Subeesh |  N.L. Kushwaha |  Dinesh Kumar Vishwakarma |  T. Nagesh Kumar |  G. Ritika |  A.N. Singh\n",
      "\n",
      "Title: DeepRice: A deep learning and deep feature based classification of Rice leaf disease subtypes\n",
      "Date: March 2024\n",
      "Author: P. Isaac Ritharson |  Kumudha Raimond |  X. Anitha Mary |  Jennifer Eunice Robert |  Andrew J\n",
      "\n",
      "Title: Transfer Learning for Multi-Crop Leaf Disease Image Classification using Convolutional Neural Network VGG\n",
      "Date: 2022\n",
      "Author: Ananda S. Paymode |  Vandana B. Malode\n",
      "\n",
      "Title: How artificial intelligence uses to achieve the agriculture sustainability: Systematic review\n",
      "Date: June 2023\n",
      "Author: Vilani Sachithra |  L.D.C.S. Subhashini\n",
      "\n",
      "Title: Comparison of CNN-based deep learning architectures for rice diseases classification\n",
      "Date: September 2023\n",
      "Author: Md Taimur Ahad |  Yan Li |  Bo Song |  Touhid Bhuiyan\n",
      "\n",
      "Title: Plant disease detection using hybrid model based on convolutional autoencoder and convolutional neural network\n",
      "Date: 2021\n",
      "Author: Punam Bedi |  Pushkar Gole\n",
      "\n",
      "Title: Deep convolutional neural network models for weed detection in polyhouse grown bell peppers\n",
      "Date: 2022\n",
      "Author: A. Subeesh |  S. Bhole |  K. Singh |  N.S. Chandel |  Y.A. Rajwade |  K.V.R. Rao |  S.P. Kumar |  D. Jat\n",
      "\n",
      "Title: Examining the interplay between artificial intelligence and the agri-food industry\n",
      "Date: 2022\n",
      "Author: Abderahman Rejeb |  Karim Rejeb |  Suhaiza Zailani |  John G. Keogh |  Andrea Appolloni\n",
      "\n",
      "Title: Machine learning in nutrient management: A review\n",
      "Date: September 2023\n",
      "Author: Oumnia Ennaji |  Leonardus Vergütz |  Achraf El Allali\n",
      "\n",
      "Title: A systematic review of machine learning techniques for cattle identification: Datasets, methods and future directions\n",
      "Date: 2022\n",
      "Author: Md Ekramul Hossain |  Muhammad Ashad Kabir |  Lihong Zheng |  Dave L. Swain |  Shawn McGrath |  Jonathan Medway\n",
      "\n",
      "Title: A review on computer vision systems in monitoring of poultry: A welfare perspective\n",
      "Date: 2020\n",
      "Author: Cedric Okinda |  Innocent Nyalala |  Tchalla Korohou |  Celestine Okinda |  Jintao Wang |  Tracy Achieng |  Patrick Wamalwa |  Tai Mang |  Mingxia Shen\n",
      "\n",
      "Title: Machine learning for weed–plant discrimination in agriculture 5.0: An in-depth review\n",
      "Date: December 2023\n",
      "Author: Filbert H. Juwono |  W.K. Wong |  Seema Verma |  Neha Shekhawat |  Basil Andy Lease |  Catur Apriono\n",
      "\n",
      "Title: Artificial cognition for applications in smart agriculture: A comprehensive review\n",
      "Date: 2020\n",
      "Author: Misbah Pathan |  Nivedita Patel |  Hiteshri Yagnik |  Manan Shah\n",
      "\n",
      "Title: Vision Intelligence for Smart Sheep Farming: Applying Ensemble Learning to Detect Sheep Breeds\n",
      "Date: March 2024\n",
      "Author: Galib Muhammad Shahriar Himel |  Md. Masudul Islam |  Mijanur Rahaman\n",
      "\n",
      "Title: Explainable artificial intelligence and interpretable machine learning for agricultural data analysis\n",
      "Date: 2022\n",
      "Author: Masahiro Ryo\n",
      "\n",
      "Title: Crop diagnostic system: A robust disease detection and management system for leafy green crops grown in an aquaponics facility\n",
      "Date: December 2023\n",
      "Author: R. Abbasi |  P. Martinez |  R. Ahmad\n",
      "\n",
      "Title: Automated quality inspection of baby corn using image processing and deep learning\n",
      "Date: March 2024\n",
      "Author: Kris Wonggasem |  Pongsan Chakranon |  Papis Wongchaisuwat\n",
      "\n"
     ]
    }
   ],
   "source": [
    "import requests\n",
    "from bs4 import BeautifulSoup\n",
    "\n",
    "url = \"https://www.keaipublishing.com/en/journals/artificial-intelligence-in-agriculture/most-downloaded-articles/\"\n",
    "\n",
    "response = requests.get(url)\n",
    "soup = BeautifulSoup(response.text, \"html.parser\")\n",
    "\n",
    "\n",
    "articles = soup.find_all(\"div\", class_=\"article-listing\")\n",
    "\n",
    "\n",
    "for article in articles:\n",
    "    \n",
    "    title = article.find(\"h2\").text.strip()\n",
    "    date = article.find(\"p\", class_=\"article-date\").text.strip()\n",
    "    author = article.find(\"p\", class_=\"article-authors\").text.strip()\n",
    "    \n",
    "    print(\"Title:\", title)\n",
    "    print(\"Date:\", date)\n",
    "    print(\"Author:\", author)\n",
    "    print()"
   ]
  },
  {
   "cell_type": "code",
   "execution_count": null,
   "id": "158ce30f",
   "metadata": {},
   "outputs": [],
   "source": []
  },
  {
   "cell_type": "code",
   "execution_count": null,
   "id": "b1d91128",
   "metadata": {},
   "outputs": [],
   "source": []
  },
  {
   "cell_type": "code",
   "execution_count": null,
   "id": "9681bb01",
   "metadata": {},
   "outputs": [],
   "source": []
  }
 ],
 "metadata": {
  "kernelspec": {
   "display_name": "Python 3 (ipykernel)",
   "language": "python",
   "name": "python3"
  },
  "language_info": {
   "codemirror_mode": {
    "name": "ipython",
    "version": 3
   },
   "file_extension": ".py",
   "mimetype": "text/x-python",
   "name": "python",
   "nbconvert_exporter": "python",
   "pygments_lexer": "ipython3",
   "version": "3.11.4"
  }
 },
 "nbformat": 4,
 "nbformat_minor": 5
}
